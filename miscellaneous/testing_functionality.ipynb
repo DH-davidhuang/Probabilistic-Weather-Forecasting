{
 "cells": [
  {
   "cell_type": "code",
   "execution_count": 16,
   "metadata": {},
   "outputs": [
    {
     "name": "stdout",
     "output_type": "stream",
     "text": [
      "main debug 1\n",
      "main debug 2\n",
      "debug\n",
      "end debug\n",
      "start: 0\n",
      "middle 1: 0\n",
      "middle 2: 0\n",
      "end 1: 0\n",
      "end cycle: 0\n",
      "start: 1\n",
      "middle 1: 1\n",
      "middle 2: 1\n",
      "end 1: 1\n",
      "end cycle: 1\n",
      "start: 2\n",
      "middle 1: 2\n",
      "middle 2: 2\n",
      "end 1: 2\n",
      "end cycle: 2\n",
      "start: 3\n",
      "middle 1: 3\n",
      "middle 2: 3\n",
      "end 1: 3\n",
      "end cycle: 3\n",
      "start: 4\n",
      "middle 1: 4\n",
      "middle 2: 4\n",
      "end 1: 4\n",
      "end cycle: 4\n",
      "start: 5\n",
      "middle 1: 5\n",
      "middle 2: 5\n",
      "end 1: 5\n",
      "end cycle: 5\n",
      "start: 6\n",
      "middle 1: 6\n",
      "middle 2: 6\n",
      "end 1: 6\n",
      "end cycle: 6\n",
      "start: 7\n",
      "middle 1: 7\n",
      "middle 2: 7\n",
      "end 1: 7\n",
      "end cycle: 7\n",
      "start: 8\n",
      "middle 1: 8\n",
      "middle 2: 8\n",
      "end 1: 8\n",
      "end cycle: 8\n",
      "main debug 3\n"
     ]
    }
   ],
   "source": [
    "from climatology_model import ClimatologyProbabilisticModel\n",
    "from climatology_metrics import ClimatologyModelEvaluation\n",
    "from estimate_gaussian_parameters import GaussianEstimation\n",
    "from time_conversion import TimeFormatConverter\n",
    "import xarray as xr\n",
    "import argparse\n",
    "\n",
    "\n",
    "def main():\n",
    "    # Example script to run\n",
    "    obs_path = 'gs://weatherbench2/datasets/era5/1959-2022-6h-64x32_equiangular_with_poles_conservative.zarr'\n",
    "    obs_data = xr.open_zarr(obs_path)\n",
    "    print(\"main debug 1\")\n",
    "    means_model = ClimatologyProbabilisticModel(obs_data, 2010, 2019, weather_variable='geopotential')\n",
    "    print(\"main debug 2\")\n",
    "    means_model.create_climatology_model()\n",
    "    print(\"main debug 3\")\n",
    "    return means_model.forecast_probabilities\n",
    "    probability_model = GaussianEstimation(means_model.forecast_probabilities)\n",
    "    print(\"main debug 4\")\n",
    "    probability_model.estimate_gaussian_confidence_intervals()\n",
    "    print(\"main debug 5\")\n",
    "    finalized_model = TimeFormatConverter(probability_model.model_with_CI)\n",
    "    print(\"main debug 6\")\n",
    "    finalized_model.convert_time_format_for_intervals(variable=\"geopotential\")\n",
    "    print(\"main debug 7\")\n",
    "    finalized_model.save_as_zarr(finalized_model.predictions_model, \"2010-2019\", \"geopotential\")\n",
    "    print(\"finished\")\n",
    "    metric_evaluation = ClimatologyModelEvaluation(finalized_model.predictions_model)\n",
    "    return metric_evaluation.calculate_proportion_of_ones()\n",
    "\n",
    "if __name__ == \"__main__\":\n",
    "    result = main()"
   ]
  },
  {
   "cell_type": "code",
   "execution_count": 17,
   "metadata": {},
   "outputs": [
    {
     "name": "stdout",
     "output_type": "stream",
     "text": [
      "main debug 4\n"
     ]
    },
    {
     "ename": "TypeError",
     "evalue": "GaussianEstimation.estimate_gaussian_confidence_intervals() missing 1 required positional argument: 'data'",
     "output_type": "error",
     "traceback": [
      "\u001b[0;31m---------------------------------------------------------------------------\u001b[0m",
      "\u001b[0;31mTypeError\u001b[0m                                 Traceback (most recent call last)",
      "\u001b[1;32m/Users/davidhuang/Desktop/Weather-Research /Probabilistic-Weather-Forecasting-/testing_functionality.ipynb Cell 2\u001b[0m line \u001b[0;36m3\n\u001b[1;32m      <a href='vscode-notebook-cell:/Users/davidhuang/Desktop/Weather-Research%20/Probabilistic-Weather-Forecasting-/testing_functionality.ipynb#X12sZmlsZQ%3D%3D?line=0'>1</a>\u001b[0m probability_model \u001b[39m=\u001b[39m GaussianEstimation(result)\n\u001b[1;32m      <a href='vscode-notebook-cell:/Users/davidhuang/Desktop/Weather-Research%20/Probabilistic-Weather-Forecasting-/testing_functionality.ipynb#X12sZmlsZQ%3D%3D?line=1'>2</a>\u001b[0m \u001b[39mprint\u001b[39m(\u001b[39m\"\u001b[39m\u001b[39mmain debug 4\u001b[39m\u001b[39m\"\u001b[39m)\n\u001b[0;32m----> <a href='vscode-notebook-cell:/Users/davidhuang/Desktop/Weather-Research%20/Probabilistic-Weather-Forecasting-/testing_functionality.ipynb#X12sZmlsZQ%3D%3D?line=2'>3</a>\u001b[0m probability_model\u001b[39m.\u001b[39;49mestimate_gaussian_confidence_intervals()\n\u001b[1;32m      <a href='vscode-notebook-cell:/Users/davidhuang/Desktop/Weather-Research%20/Probabilistic-Weather-Forecasting-/testing_functionality.ipynb#X12sZmlsZQ%3D%3D?line=3'>4</a>\u001b[0m \u001b[39mprint\u001b[39m(\u001b[39m\"\u001b[39m\u001b[39mmain debug 5\u001b[39m\u001b[39m\"\u001b[39m)\n\u001b[1;32m      <a href='vscode-notebook-cell:/Users/davidhuang/Desktop/Weather-Research%20/Probabilistic-Weather-Forecasting-/testing_functionality.ipynb#X12sZmlsZQ%3D%3D?line=4'>5</a>\u001b[0m finalized_model \u001b[39m=\u001b[39m TimeFormatConverter(probability_model\u001b[39m.\u001b[39mmodel_with_CI)\n",
      "\u001b[0;31mTypeError\u001b[0m: GaussianEstimation.estimate_gaussian_confidence_intervals() missing 1 required positional argument: 'data'"
     ]
    }
   ],
   "source": [
    "probability_model = GaussianEstimation(result)\n",
    "print(\"main debug 4\")\n",
    "probability_model.estimate_gaussian_confidence_intervals()\n",
    "print(\"main debug 5\")\n",
    "finalized_model = TimeFormatConverter(probability_model.model_with_CI)\n",
    "print(\"main debug 6\")\n",
    "finalized_model.convert_time_format_for_intervals(variable=\"geopotential\")\n",
    "print(\"main debug 7\")\n",
    "finalized_model.save_as_zarr(finalized_model.predictions_model, \"2010-2019\", \"geopotential\")\n",
    "print(\"finished\")\n",
    "metric_evaluation = ClimatologyModelEvaluation(finalized_model.predictions_model)\n"
   ]
  },
  {
   "cell_type": "code",
   "execution_count": null,
   "metadata": {},
   "outputs": [],
   "source": []
  }
 ],
 "metadata": {
  "kernelspec": {
   "display_name": "weather-research",
   "language": "python",
   "name": "python3"
  },
  "language_info": {
   "codemirror_mode": {
    "name": "ipython",
    "version": 3
   },
   "file_extension": ".py",
   "mimetype": "text/x-python",
   "name": "python",
   "nbconvert_exporter": "python",
   "pygments_lexer": "ipython3",
   "version": "3.11.5"
  }
 },
 "nbformat": 4,
 "nbformat_minor": 2
}
